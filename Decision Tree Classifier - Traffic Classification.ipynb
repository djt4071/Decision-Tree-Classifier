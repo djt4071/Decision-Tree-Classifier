{
 "cells": [
  {
   "cell_type": "code",
   "execution_count": 39,
   "metadata": {},
   "outputs": [],
   "source": [
    "#Importing Python Machine Learning Libraries\n",
    "import numpy as np\n",
    "np.set_printoptions(threshold=np.inf) ###temporary print options so that the output is not truncated.\n",
    "import pandas as pd\n",
    "from sklearn.model_selection import train_test_split\n",
    "from sklearn.tree import DecisionTreeClassifier\n",
    "from sklearn.metrics import accuracy_score\n",
    "from sklearn import tree"
   ]
  },
  {
   "cell_type": "code",
   "execution_count": 40,
   "metadata": {},
   "outputs": [],
   "source": [
    "# Data Import\n",
    "###seperate columns by , and apply the header\n",
    "df= pd.read_csv('netmate_out.csv', sep = ',', header = None) \n",
    "\n",
    "df.columns =[\"srcip\", #0\n",
    "            \"srcport\", #1\n",
    "            \"dstip\", #2\n",
    "            \"dstport\", #3\n",
    "            \"proto\", #4\n",
    "            \"total_fpackets\", #5\n",
    "            \"total_fvolume\", #6\n",
    "            \"total_bpackets\", #7\n",
    "            \"total_bvolume\", #8\n",
    "            \"min_fpktl\", #9\n",
    "            \"mean_fpktl\", #10\n",
    "            \"max_fpktl\", #11\n",
    "            \"std_fpktl\", #12\n",
    "            \"min_bpktl\", #13\n",
    "            \"mean_bpktl\", #14\n",
    "            \"max_bpktl\", #15\n",
    "            \"std_bpktl\", #16\n",
    "            \"min_fiat\", #17\n",
    "            \"mean_fiat\", #18\n",
    "            \"max_fiat\", #19\n",
    "            \"std_fiat\", #20\n",
    "            \"min_biat\", #21\n",
    "            \"mean_biat\", #22\n",
    "            \"max_biat\", #23\n",
    "            \"std_biat\", #24\n",
    "            \"duration\", #25\n",
    "            \"min_active\", #26\n",
    "            \"mean_active\", #27\n",
    "            \"max_active\", #28\n",
    "            \"std_active\", #29\n",
    "            \"min_idle\", #30\n",
    "            \"mean_idle\", #31\n",
    "            \"max_idle\", #32\n",
    "            \"std_idle\", #33\n",
    "            \"sflow_fpackets\", #34\n",
    "            \"sflow_fbytes\", #35\n",
    "            \"sflow_bpackets\", #36\n",
    "            \"sflow_bbytes\", #37\n",
    "            \"fpsh_cnt\", #38\n",
    "            \"bpsh_cnt\", #39\n",
    "            \"furg_cnt\", #40\n",
    "            \"burg_cnt\", #41\n",
    "            \"total_fhlen\", #42\n",
    "            \"total_bhlen\", #43 ###44 flow statistics total\n",
    "            \"target_variable\"] #44\n",
    "\n",
    "interesting_features = df.loc[:, \n",
    "                           ['proto', #4 ==X0\n",
    "                           'min_fpktl', #9 ==X1\n",
    "                           'mean_fpktl', #10 ==X2\n",
    "                           'max_fpktl', #11 ==X3\n",
    "                           'std_fpktl', #12 ==X4\n",
    "                           'min_bpktl', #13 ==X5\n",
    "                           'mean_bpktl', #14 ==X6\n",
    "                           'max_bpktl', #15 ==X7 \n",
    "                           'std_bpktl', #16 ==X8\n",
    "                           'min_fiat', #17 ==X9\n",
    "                           'mean_fiat', #18 ==X10\n",
    "                           'max_fiat', #19 ==X11\n",
    "                           'std_fiat', #20 ==X12\n",
    "                           'min_biat', #21 ==X13\n",
    "                           'mean_biat', #22 ==X14\n",
    "                           'max_biat', #23 ==X15\n",
    "                           'std_biat', #24 ==X16\n",
    "                           'target_variable']] #44 ==Y          "
   ]
  },
  {
   "cell_type": "code",
   "execution_count": 41,
   "metadata": {},
   "outputs": [],
   "source": [
    "header =list(interesting_features.columns.values)\n",
    "#print(header)"
   ]
  },
  {
   "cell_type": "code",
   "execution_count": 42,
   "metadata": {},
   "outputs": [],
   "source": [
    "#print(interesting_features)"
   ]
  },
  {
   "cell_type": "code",
   "execution_count": 43,
   "metadata": {},
   "outputs": [],
   "source": [
    "###check the data types for the columns in the dataframe\n",
    "#interesting_features.dtypes"
   ]
  },
  {
   "cell_type": "code",
   "execution_count": 44,
   "metadata": {},
   "outputs": [],
   "source": [
    "###get additional dataframe information if required.\n",
    "#interesting_features.info()"
   ]
  },
  {
   "cell_type": "code",
   "execution_count": 45,
   "metadata": {},
   "outputs": [],
   "source": [
    "def unique_vals(rows, col):\n",
    "    \"\"\"Find the unique values for a column in a dataset.\"\"\"\n",
    "    return set([row[col] for row in rows])"
   ]
  },
  {
   "cell_type": "code",
   "execution_count": 46,
   "metadata": {},
   "outputs": [
    {
     "data": {
      "text/plain": [
       "{93,\n",
       " 96,\n",
       " 110,\n",
       " 117,\n",
       " 121,\n",
       " 125,\n",
       " 138,\n",
       " 209,\n",
       " 211,\n",
       " 238,\n",
       " 239,\n",
       " 241,\n",
       " 246,\n",
       " 247,\n",
       " 256,\n",
       " 259,\n",
       " 260,\n",
       " 263,\n",
       " 274,\n",
       " 276,\n",
       " 358,\n",
       " 378,\n",
       " 382,\n",
       " 384,\n",
       " 407,\n",
       " 807,\n",
       " 1109,\n",
       " 1439,\n",
       " 1454,\n",
       " 1455,\n",
       " 1456,\n",
       " 1457,\n",
       " 1458,\n",
       " 1459,\n",
       " 1461,\n",
       " 1462,\n",
       " 3286,\n",
       " 3463}"
      ]
     },
     "execution_count": 46,
     "metadata": {},
     "output_type": "execute_result"
    }
   ],
   "source": [
    "unique_vals(interesting_features.values, 6)"
   ]
  },
  {
   "cell_type": "code",
   "execution_count": 47,
   "metadata": {},
   "outputs": [],
   "source": [
    "def class_counts(rows):\n",
    "    \"\"\"Counts the number of each type of example in a dataset.\"\"\"\n",
    "    counts = {}  # a dictionary of label -> count.\n",
    "    for row in rows:\n",
    "        # in our dataset format, the label is always the last column\n",
    "        label = row[-1]\n",
    "        if label not in counts:\n",
    "            counts[label] = 0\n",
    "        counts[label] += 1\n",
    "    return counts"
   ]
  },
  {
   "cell_type": "code",
   "execution_count": 48,
   "metadata": {},
   "outputs": [
    {
     "data": {
      "text/plain": [
       "{'DNS': 173, 'HTTP': 95, 'HTTPS': 10, 'OpenVPN': 47}"
      ]
     },
     "execution_count": 48,
     "metadata": {},
     "output_type": "execute_result"
    }
   ],
   "source": [
    "class_counts(interesting_features.values)"
   ]
  },
  {
   "cell_type": "code",
   "execution_count": 49,
   "metadata": {},
   "outputs": [],
   "source": [
    "def is_numeric(value):\n",
    "    \"\"\"Test if a value is numeric.\"\"\"\n",
    "    return isinstance(value, int) or isinstance(value, float)"
   ]
  },
  {
   "cell_type": "code",
   "execution_count": 50,
   "metadata": {},
   "outputs": [
    {
     "data": {
      "text/plain": [
       "True"
      ]
     },
     "execution_count": 50,
     "metadata": {},
     "output_type": "execute_result"
    }
   ],
   "source": [
    "is_numeric(7)"
   ]
  },
  {
   "cell_type": "code",
   "execution_count": 51,
   "metadata": {},
   "outputs": [],
   "source": [
    "class Question:\n",
    "    \"\"\"A Question is used to partition a dataset.\n",
    "\n",
    "    This class just records a 'column number' (e.g., 0 for Color) and a\n",
    "    'column value' (e.g., Green). The 'match' method is used to compare\n",
    "    the feature value in an example to the feature value stored in the\n",
    "    question. See the demo below.\n",
    "    \"\"\"\n",
    "\n",
    "    def __init__(self, column, value):\n",
    "        self.column = column\n",
    "        self.value = value\n",
    "\n",
    "    def match(self, example):\n",
    "        # Compare the feature value in an example to the\n",
    "        # feature value in this question.\n",
    "        val = example[self.column]\n",
    "        if is_numeric(val):\n",
    "            return val >= self.value\n",
    "        else:\n",
    "            return val == self.value\n",
    "\n",
    "    def __repr__(self):\n",
    "        # This is just a helper method to print\n",
    "        # the question in a readable format.\n",
    "        condition = \"==\"\n",
    "        if is_numeric(self.value):\n",
    "            condition = \">=\"\n",
    "        return \"Is %s %s %s?\" % (\n",
    "            header[self.column], condition, str(self.value))"
   ]
  },
  {
   "cell_type": "code",
   "execution_count": 52,
   "metadata": {},
   "outputs": [
    {
     "data": {
      "text/plain": [
       "Is proto >= 17?"
      ]
     },
     "execution_count": 52,
     "metadata": {},
     "output_type": "execute_result"
    }
   ],
   "source": [
    "Question(0, 17)"
   ]
  },
  {
   "cell_type": "code",
   "execution_count": 53,
   "metadata": {},
   "outputs": [
    {
     "data": {
      "text/plain": [
       "Is proto >= 17?"
      ]
     },
     "execution_count": 53,
     "metadata": {},
     "output_type": "execute_result"
    }
   ],
   "source": [
    "q = Question(0, 17)\n",
    "q"
   ]
  },
  {
   "cell_type": "code",
   "execution_count": 54,
   "metadata": {},
   "outputs": [
    {
     "name": "stdout",
     "output_type": "stream",
     "text": [
      "proto                  6\n",
      "min_fpktl             52\n",
      "mean_fpktl            66\n",
      "max_fpktl            131\n",
      "std_fpktl             31\n",
      "min_bpktl             52\n",
      "mean_bpktl           117\n",
      "max_bpktl            307\n",
      "std_bpktl            126\n",
      "min_fiat               4\n",
      "mean_fiat          13344\n",
      "max_fiat           26345\n",
      "std_fiat           11905\n",
      "min_biat            7463\n",
      "mean_biat          15585\n",
      "max_biat           20355\n",
      "std_biat            7069\n",
      "target_variable     HTTP\n",
      "Name: 200, dtype: object\n"
     ]
    },
    {
     "data": {
      "text/plain": [
       "False"
      ]
     },
     "execution_count": 54,
     "metadata": {},
     "output_type": "execute_result"
    }
   ],
   "source": [
    "# Let's pick an example from the training set...\n",
    "example = interesting_features.iloc[200]\n",
    "print(example)\n",
    "# ... and see if it matches the question\n",
    "q.match(example) # this will be true, since the first example is Green.\n",
    "#######"
   ]
  },
  {
   "cell_type": "code",
   "execution_count": 55,
   "metadata": {},
   "outputs": [],
   "source": [
    "def partition(rows, question):\n",
    "    \"\"\"Partitions a dataset.\n",
    "\n",
    "    For each row in the dataset, check if it matches the question. If\n",
    "    so, add it to 'true rows', otherwise, add it to 'false rows'.\n",
    "    \"\"\"\n",
    "    true_rows, false_rows = [], []\n",
    "    for row in rows:\n",
    "        if question.match(row):\n",
    "            true_rows.append(row)\n",
    "        else:\n",
    "            false_rows.append(row)\n",
    "    return true_rows, false_rows"
   ]
  },
  {
   "cell_type": "code",
   "execution_count": 56,
   "metadata": {},
   "outputs": [],
   "source": [
    "###partition the data based on a question condition being true or false.\n",
    "true_rows, false_rows = partition(interesting_features.values, Question(0, 17))\n",
    "###rows that meet the question condition true\n",
    "#true_rows\n",
    "###rows that meet the question condition false\n",
    "#false_rows"
   ]
  },
  {
   "cell_type": "code",
   "execution_count": 57,
   "metadata": {},
   "outputs": [],
   "source": [
    "def gini(rows):\n",
    "    \"\"\"Calculate the Gini Impurity for a list of rows.\n",
    "\n",
    "    There are a few different ways to do this, I thought this one was\n",
    "    the most concise. See:\n",
    "    https://en.wikipedia.org/wiki/Decision_tree_learning#Gini_impurity\n",
    "    \"\"\"\n",
    "    counts = class_counts(rows)\n",
    "    impurity = 1\n",
    "    for lbl in counts:\n",
    "        prob_of_lbl = counts[lbl] / float(len(rows))\n",
    "        impurity -= prob_of_lbl**2\n",
    "    return impurity"
   ]
  },
  {
   "cell_type": "code",
   "execution_count": 58,
   "metadata": {},
   "outputs": [
    {
     "data": {
      "text/plain": [
       "0.0"
      ]
     },
     "execution_count": 58,
     "metadata": {},
     "output_type": "execute_result"
    }
   ],
   "source": [
    "#######\n",
    "# Demo:\n",
    "# Let's look at some example to understand how Gini Impurity works.\n",
    "#\n",
    "# First, we'll look at a dataset with no mixing.\n",
    "no_mixing = [['Apple'],\n",
    "              ['Apple']]\n",
    "# this will return 0\n",
    "gini(no_mixing)"
   ]
  },
  {
   "cell_type": "code",
   "execution_count": 59,
   "metadata": {},
   "outputs": [
    {
     "data": {
      "text/plain": [
       "0.5"
      ]
     },
     "execution_count": 59,
     "metadata": {},
     "output_type": "execute_result"
    }
   ],
   "source": [
    "# Now, we'll look at dataset with a 50:50 apples:oranges ratio\n",
    "some_mixing = [['Apple'],\n",
    "               ['Orange']]\n",
    "# this will return 0.5 - meaning, there's a 50% chance of misclassifying\n",
    "# a random example we draw from the dataset.\n",
    "gini(some_mixing)"
   ]
  },
  {
   "cell_type": "code",
   "execution_count": 60,
   "metadata": {},
   "outputs": [
    {
     "data": {
      "text/plain": [
       "0.7999999999999998"
      ]
     },
     "execution_count": 60,
     "metadata": {},
     "output_type": "execute_result"
    }
   ],
   "source": [
    "# Now, we'll look at a dataset with many different labels\n",
    "lots_of_mixing = [['Apple'],\n",
    "                  ['Orange'],\n",
    "                  ['Grape'],\n",
    "                  ['Grapefruit'],\n",
    "                  ['Blueberry']]\n",
    "# This will return 0.8\n",
    "gini(lots_of_mixing)\n",
    "#######"
   ]
  },
  {
   "cell_type": "code",
   "execution_count": 61,
   "metadata": {},
   "outputs": [
    {
     "data": {
      "text/plain": [
       "0.625"
      ]
     },
     "execution_count": 61,
     "metadata": {},
     "output_type": "execute_result"
    }
   ],
   "source": [
    "possible_feature = class_counts(interesting_features.values)\n",
    "gini(possible_feature)"
   ]
  },
  {
   "cell_type": "code",
   "execution_count": 62,
   "metadata": {},
   "outputs": [
    {
     "data": {
      "text/plain": [
       "0.75"
      ]
     },
     "execution_count": 62,
     "metadata": {},
     "output_type": "execute_result"
    }
   ],
   "source": [
    "list_features =[['DNS'],\n",
    "                ['HTTP'],\n",
    "                ['HTTPS'],\n",
    "                ['OpenVPN']]\n",
    "\n",
    "gini(list_features)"
   ]
  },
  {
   "cell_type": "code",
   "execution_count": 63,
   "metadata": {},
   "outputs": [
    {
     "data": {
      "text/plain": [
       "0.0"
      ]
     },
     "execution_count": 63,
     "metadata": {},
     "output_type": "execute_result"
    }
   ],
   "source": [
    "another_list_features = [interesting_features.values[:,-1]]\n",
    "#print(another_list_features)\n",
    "gini(another_list_features)"
   ]
  },
  {
   "cell_type": "code",
   "execution_count": 64,
   "metadata": {},
   "outputs": [],
   "source": [
    "def info_gain(left, right, current_uncertainty):\n",
    "    \"\"\"Information Gain.\n",
    "\n",
    "    The uncertainty of the starting node, minus the weighted impurity of\n",
    "    two child nodes.\n",
    "    \"\"\"\n",
    "    p = float(len(left)) / (len(left) + len(right))\n",
    "    return current_uncertainty - p * gini(left) - (1 - p) * gini(right)"
   ]
  },
  {
   "cell_type": "code",
   "execution_count": 65,
   "metadata": {},
   "outputs": [
    {
     "data": {
      "text/plain": [
       "0.9987692307692309"
      ]
     },
     "execution_count": 65,
     "metadata": {},
     "output_type": "execute_result"
    }
   ],
   "source": [
    "#######\n",
    "# Demo:\n",
    "# Calculate the uncertainy of our training data.\n",
    "current_uncertainty = gini(interesting_features)\n",
    "current_uncertainty"
   ]
  },
  {
   "cell_type": "code",
   "execution_count": 66,
   "metadata": {},
   "outputs": [
    {
     "data": {
      "text/plain": [
       "0.4000037986704654"
      ]
     },
     "execution_count": 66,
     "metadata": {},
     "output_type": "execute_result"
    }
   ],
   "source": [
    "# How much information do we gain by partioning on 'Green'?\n",
    "true_rows, false_rows = partition(interesting_features, Question(-1, 'openvpn'))\n",
    "info_gain(true_rows, false_rows, current_uncertainty)"
   ]
  },
  {
   "cell_type": "code",
   "execution_count": 67,
   "metadata": {},
   "outputs": [
    {
     "data": {
      "text/plain": [
       "0.4000037986704654"
      ]
     },
     "execution_count": 67,
     "metadata": {},
     "output_type": "execute_result"
    }
   ],
   "source": [
    "# What about if we partioned on 'Red' instead?\n",
    "true_rows, false_rows = partition(interesting_features, Question(0, 17))\n",
    "info_gain(true_rows, false_rows, current_uncertainty)"
   ]
  },
  {
   "cell_type": "code",
   "execution_count": 68,
   "metadata": {},
   "outputs": [
    {
     "data": {
      "text/plain": [
       "[array([17, 71, 71, 71, 0, 259, 259, 259, 0, 0, 0, 0, 0, 0, 0, 0, 0, 'DNS'],\n",
       "       dtype=object),\n",
       " array([17, 82, 82, 82, 0, 274, 274, 274, 0, 0, 0, 0, 0, 0, 0, 0, 0, 'DNS'],\n",
       "       dtype=object),\n",
       " array([17, 60, 60, 60, 0, 110, 110, 110, 0, 0, 0, 0, 0, 0, 0, 0, 0, 'DNS'],\n",
       "       dtype=object),\n",
       " array([17, 65, 65, 65, 0, 241, 241, 241, 0, 0, 0, 0, 0, 0, 0, 0, 0, 'DNS'],\n",
       "       dtype=object),\n",
       " array([17, 82, 82, 82, 0, 274, 274, 274, 0, 0, 0, 0, 0, 0, 0, 0, 0, 'DNS'],\n",
       "       dtype=object),\n",
       " array([17, 57, 57, 57, 0, 238, 238, 238, 0, 0, 0, 0, 0, 0, 0, 0, 0, 'DNS'],\n",
       "       dtype=object),\n",
       " array([17, 70, 70, 70, 0, 256, 256, 256, 0, 0, 0, 0, 0, 0, 0, 0, 0, 'DNS'],\n",
       "       dtype=object),\n",
       " array([17, 82, 82, 82, 0, 274, 274, 274, 0, 0, 0, 0, 0, 0, 0, 0, 0, 'DNS'],\n",
       "       dtype=object),\n",
       " array([17, 57, 57, 57, 0, 241, 241, 241, 0, 0, 0, 0, 0, 0, 0, 0, 0, 'DNS'],\n",
       "       dtype=object),\n",
       " array([17, 60, 60, 60, 0, 110, 110, 110, 0, 0, 0, 0, 0, 0, 0, 0, 0, 'DNS'],\n",
       "       dtype=object),\n",
       " array([17, 61, 61, 61, 0, 247, 247, 247, 0, 0, 0, 0, 0, 0, 0, 0, 0, 'DNS'],\n",
       "       dtype=object),\n",
       " array([17, 50, 50, 50, 0, 125, 125, 125, 0, 0, 0, 0, 0, 0, 0, 0, 0, 'DNS'],\n",
       "       dtype=object),\n",
       " array([17, 60, 60, 60, 0, 110, 110, 110, 0, 0, 0, 0, 0, 0, 0, 0, 0, 'DNS'],\n",
       "       dtype=object),\n",
       " array([17, 50, 50, 50, 0, 125, 125, 125, 0, 0, 0, 0, 0, 0, 0, 0, 0, 'DNS'],\n",
       "       dtype=object),\n",
       " array([17, 58, 58, 58, 0, 239, 239, 239, 0, 0, 0, 0, 0, 0, 0, 0, 0, 'DNS'],\n",
       "       dtype=object),\n",
       " array([17, 59, 59, 59, 0, 263, 263, 263, 0, 0, 0, 0, 0, 0, 0, 0, 0, 'DNS'],\n",
       "       dtype=object),\n",
       " array([17, 59, 59, 59, 0, 246, 246, 246, 0, 0, 0, 0, 0, 0, 0, 0, 0, 'DNS'],\n",
       "       dtype=object),\n",
       " array([17, 82, 82, 82, 0, 274, 274, 274, 0, 0, 0, 0, 0, 0, 0, 0, 0, 'DNS'],\n",
       "       dtype=object),\n",
       " array([17, 61, 61, 61, 0, 247, 247, 247, 0, 0, 0, 0, 0, 0, 0, 0, 0, 'DNS'],\n",
       "       dtype=object),\n",
       " array([17, 60, 60, 60, 0, 276, 276, 276, 0, 0, 0, 0, 0, 0, 0, 0, 0, 'DNS'],\n",
       "       dtype=object),\n",
       " array([17, 73, 73, 73, 0, 260, 260, 260, 0, 0, 0, 0, 0, 0, 0, 0, 0, 'DNS'],\n",
       "       dtype=object),\n",
       " array([17, 59, 59, 59, 0, 263, 263, 263, 0, 0, 0, 0, 0, 0, 0, 0, 0, 'DNS'],\n",
       "       dtype=object),\n",
       " array([17, 61, 61, 61, 0, 407, 407, 407, 0, 0, 0, 0, 0, 0, 0, 0, 0, 'DNS'],\n",
       "       dtype=object),\n",
       " array([17, 61, 61, 61, 0, 247, 247, 247, 0, 0, 0, 0, 0, 0, 0, 0, 0, 'DNS'],\n",
       "       dtype=object),\n",
       " array([17, 73, 73, 73, 0, 260, 260, 260, 0, 0, 0, 0, 0, 0, 0, 0, 0, 'DNS'],\n",
       "       dtype=object),\n",
       " array([17, 65, 65, 65, 0, 241, 241, 241, 0, 0, 0, 0, 0, 0, 0, 0, 0, 'DNS'],\n",
       "       dtype=object),\n",
       " array([17, 50, 50, 50, 0, 125, 125, 125, 0, 0, 0, 0, 0, 0, 0, 0, 0, 'DNS'],\n",
       "       dtype=object),\n",
       " array([17, 50, 50, 50, 0, 125, 125, 125, 0, 0, 0, 0, 0, 0, 0, 0, 0, 'DNS'],\n",
       "       dtype=object),\n",
       " array([17, 59, 59, 59, 0, 211, 211, 211, 0, 0, 0, 0, 0, 0, 0, 0, 0, 'DNS'],\n",
       "       dtype=object),\n",
       " array([17, 60, 60, 60, 0, 276, 276, 276, 0, 0, 0, 0, 0, 0, 0, 0, 0, 'DNS'],\n",
       "       dtype=object),\n",
       " array([17, 61, 61, 61, 0, 247, 247, 247, 0, 0, 0, 0, 0, 0, 0, 0, 0, 'DNS'],\n",
       "       dtype=object),\n",
       " array([17, 60, 60, 60, 0, 110, 110, 110, 0, 0, 0, 0, 0, 0, 0, 0, 0, 'DNS'],\n",
       "       dtype=object),\n",
       " array([17, 56, 56, 56, 0, 72, 96, 121, 34, 3, 3, 3, 0, 2950, 2950, 2950,\n",
       "        0, 'DNS'], dtype=object),\n",
       " array([17, 56, 56, 56, 0, 72, 96, 121, 34, 81, 81, 81, 0, 4527, 4527,\n",
       "        4527, 0, 'DNS'], dtype=object),\n",
       " array([17, 56, 56, 56, 0, 72, 96, 121, 34, 5, 5, 5, 0, 101908, 101908,\n",
       "        101908, 0, 'DNS'], dtype=object),\n",
       " array([17, 56, 56, 56, 0, 72, 96, 121, 34, 4, 4, 4, 0, 3627, 3627, 3627,\n",
       "        0, 'DNS'], dtype=object),\n",
       " array([17, 56, 56, 56, 0, 72, 96, 121, 34, 4, 4, 4, 0, 16846, 16846,\n",
       "        16846, 0, 'DNS'], dtype=object),\n",
       " array([17, 56, 56, 56, 0, 72, 96, 121, 34, 3, 3, 3, 0, 4833, 4833, 4833,\n",
       "        0, 'DNS'], dtype=object),\n",
       " array([17, 56, 56, 56, 0, 72, 96, 121, 34, 3, 3, 3, 0, 269963, 269963,\n",
       "        269963, 0, 'DNS'], dtype=object),\n",
       " array([17, 56, 56, 56, 0, 72, 96, 121, 34, 3, 3, 3, 0, 1055, 1055, 1055,\n",
       "        0, 'DNS'], dtype=object),\n",
       " array([17, 56, 56, 56, 0, 72, 96, 121, 34, 3, 3, 3, 0, 5489, 5489, 5489,\n",
       "        0, 'DNS'], dtype=object),\n",
       " array([17, 56, 56, 56, 0, 72, 96, 121, 34, 4, 4, 4, 0, 4520, 4520, 4520,\n",
       "        0, 'DNS'], dtype=object),\n",
       " array([17, 56, 56, 56, 0, 72, 96, 121, 34, 4, 4, 4, 0, 16745, 16745,\n",
       "        16745, 0, 'DNS'], dtype=object),\n",
       " array([17, 56, 56, 56, 0, 72, 96, 121, 34, 3, 3, 3, 0, 101620, 101620,\n",
       "        101620, 0, 'DNS'], dtype=object),\n",
       " array([17, 56, 56, 56, 0, 72, 96, 121, 34, 2, 2, 2, 0, 5050, 5050, 5050,\n",
       "        0, 'DNS'], dtype=object),\n",
       " array([17, 56, 56, 56, 0, 72, 96, 121, 34, 2, 2, 2, 0, 16873, 16873,\n",
       "        16873, 0, 'DNS'], dtype=object),\n",
       " array([17, 56, 56, 56, 0, 72, 96, 121, 34, 3, 3, 3, 0, 5049, 5049, 5049,\n",
       "        0, 'DNS'], dtype=object),\n",
       " array([17, 56, 56, 56, 0, 72, 96, 121, 34, 3, 3, 3, 0, 4773, 4773, 4773,\n",
       "        0, 'DNS'], dtype=object),\n",
       " array([17, 56, 56, 56, 0, 72, 96, 121, 34, 2, 2, 2, 0, 3817, 3817, 3817,\n",
       "        0, 'DNS'], dtype=object),\n",
       " array([17, 56, 56, 56, 0, 72, 96, 121, 34, 3, 3, 3, 0, 4753, 4753, 4753,\n",
       "        0, 'DNS'], dtype=object),\n",
       " array([17, 56, 56, 56, 0, 72, 96, 121, 34, 2, 2, 2, 0, 3807, 3807, 3807,\n",
       "        0, 'DNS'], dtype=object),\n",
       " array([17, 56, 56, 56, 0, 72, 96, 121, 34, 93, 93, 93, 0, 113336, 113336,\n",
       "        113336, 0, 'DNS'], dtype=object),\n",
       " array([17, 56, 56, 56, 0, 72, 96, 121, 34, 4, 4, 4, 0, 102467, 102467,\n",
       "        102467, 0, 'DNS'], dtype=object),\n",
       " array([17, 56, 56, 56, 0, 72, 96, 121, 34, 3, 3, 3, 0, 4535, 4535, 4535,\n",
       "        0, 'DNS'], dtype=object),\n",
       " array([17, 56, 56, 56, 0, 72, 96, 121, 34, 3, 3, 3, 0, 17132, 17132,\n",
       "        17132, 0, 'DNS'], dtype=object),\n",
       " array([17, 56, 56, 56, 0, 72, 96, 121, 34, 5, 5, 5, 0, 11090, 11090,\n",
       "        11090, 0, 'DNS'], dtype=object),\n",
       " array([17, 56, 56, 56, 0, 72, 96, 121, 34, 5, 5, 5, 0, 4674, 4674, 4674,\n",
       "        0, 'DNS'], dtype=object),\n",
       " array([17, 56, 56, 56, 0, 72, 96, 121, 34, 3, 3, 3, 0, 4456, 4456, 4456,\n",
       "        0, 'DNS'], dtype=object),\n",
       " array([17, 56, 56, 56, 0, 72, 96, 121, 34, 9, 9, 9, 0, 4828, 4828, 4828,\n",
       "        0, 'DNS'], dtype=object),\n",
       " array([17, 56, 56, 56, 0, 72, 96, 121, 34, 3, 3, 3, 0, 4808, 4808, 4808,\n",
       "        0, 'DNS'], dtype=object),\n",
       " array([17, 56, 56, 56, 0, 72, 96, 121, 34, 3, 3, 3, 0, 16621, 16621,\n",
       "        16621, 0, 'DNS'], dtype=object),\n",
       " array([17, 56, 56, 56, 0, 72, 96, 121, 34, 4, 4, 4, 0, 3989, 3989, 3989,\n",
       "        0, 'DNS'], dtype=object),\n",
       " array([17, 56, 56, 56, 0, 72, 96, 121, 34, 2, 2, 2, 0, 101030, 101030,\n",
       "        101030, 0, 'DNS'], dtype=object),\n",
       " array([17, 56, 56, 56, 0, 72, 96, 121, 34, 4, 4, 4, 0, 114603, 114603,\n",
       "        114603, 0, 'DNS'], dtype=object),\n",
       " array([17, 56, 56, 56, 0, 72, 96, 121, 34, 4, 4, 4, 0, 29183, 29183,\n",
       "        29183, 0, 'DNS'], dtype=object),\n",
       " array([17, 56, 56, 56, 0, 72, 96, 121, 34, 5, 5, 5, 0, 4424, 4424, 4424,\n",
       "        0, 'DNS'], dtype=object),\n",
       " array([17, 56, 56, 56, 0, 72, 96, 121, 34, 5, 5, 5, 0, 4252, 4252, 4252,\n",
       "        0, 'DNS'], dtype=object),\n",
       " array([17, 56, 56, 56, 0, 72, 96, 121, 34, 2, 2, 2, 0, 4592, 4592, 4592,\n",
       "        0, 'DNS'], dtype=object),\n",
       " array([17, 56, 56, 56, 0, 72, 96, 121, 34, 4, 4, 4, 0, 4626, 4626, 4626,\n",
       "        0, 'DNS'], dtype=object),\n",
       " array([17, 56, 56, 56, 0, 72, 96, 121, 34, 4, 4, 4, 0, 16845, 16845,\n",
       "        16845, 0, 'DNS'], dtype=object),\n",
       " array([17, 56, 56, 56, 0, 72, 96, 121, 34, 3, 3, 3, 0, 5535, 5535, 5535,\n",
       "        0, 'DNS'], dtype=object),\n",
       " array([17, 56, 56, 56, 0, 72, 96, 121, 34, 9, 9, 9, 0, 4062, 4062, 4062,\n",
       "        0, 'DNS'], dtype=object),\n",
       " array([17, 56, 56, 56, 0, 72, 96, 121, 34, 3, 3, 3, 0, 233310, 233310,\n",
       "        233310, 0, 'DNS'], dtype=object),\n",
       " array([17, 56, 56, 56, 0, 72, 96, 121, 34, 2, 2, 2, 0, 101270, 101270,\n",
       "        101270, 0, 'DNS'], dtype=object),\n",
       " array([17, 56, 56, 56, 0, 72, 96, 121, 34, 2, 2, 2, 0, 102021, 102021,\n",
       "        102021, 0, 'DNS'], dtype=object),\n",
       " array([17, 56, 56, 56, 0, 72, 96, 121, 34, 4, 4, 4, 0, 4929, 4929, 4929,\n",
       "        0, 'DNS'], dtype=object),\n",
       " array([17, 56, 56, 56, 0, 72, 96, 121, 34, 3, 3, 3, 0, 100823, 100823,\n",
       "        100823, 0, 'DNS'], dtype=object),\n",
       " array([17, 56, 56, 56, 0, 72, 96, 121, 34, 4, 4, 4, 0, 4709, 4709, 4709,\n",
       "        0, 'DNS'], dtype=object),\n",
       " array([17, 56, 56, 56, 0, 72, 96, 121, 34, 3, 3, 3, 0, 16998, 16998,\n",
       "        16998, 0, 'DNS'], dtype=object),\n",
       " array([17, 56, 56, 56, 0, 72, 96, 121, 34, 3, 3, 3, 0, 4420, 4420, 4420,\n",
       "        0, 'DNS'], dtype=object),\n",
       " array([17, 56, 56, 56, 0, 72, 96, 121, 34, 4, 4, 4, 0, 201141, 201141,\n",
       "        201141, 0, 'DNS'], dtype=object),\n",
       " array([17, 56, 56, 56, 0, 72, 96, 121, 34, 4, 4, 4, 0, 5275, 5275, 5275,\n",
       "        0, 'DNS'], dtype=object),\n",
       " array([17, 56, 56, 56, 0, 72, 96, 121, 34, 3, 3, 3, 0, 4833, 4833, 4833,\n",
       "        0, 'DNS'], dtype=object),\n",
       " array([17, 56, 56, 56, 0, 72, 96, 121, 34, 4, 4, 4, 0, 103801, 103801,\n",
       "        103801, 0, 'DNS'], dtype=object),\n",
       " array([17, 56, 56, 56, 0, 72, 96, 121, 34, 3, 3, 3, 0, 17043, 17043,\n",
       "        17043, 0, 'DNS'], dtype=object),\n",
       " array([17, 56, 56, 56, 0, 72, 96, 121, 34, 2, 2, 2, 0, 4674, 4674, 4674,\n",
       "        0, 'DNS'], dtype=object),\n",
       " array([17, 56, 56, 56, 0, 72, 96, 121, 34, 9, 9, 9, 0, 4237, 4237, 4237,\n",
       "        0, 'DNS'], dtype=object),\n",
       " array([17, 56, 56, 56, 0, 72, 96, 121, 34, 4, 4, 4, 0, 201807, 201807,\n",
       "        201807, 0, 'DNS'], dtype=object),\n",
       " array([17, 56, 56, 56, 0, 72, 96, 121, 34, 6, 6, 6, 0, 4492, 4492, 4492,\n",
       "        0, 'DNS'], dtype=object),\n",
       " array([17, 56, 56, 56, 0, 72, 96, 121, 34, 6, 6, 6, 0, 4453, 4453, 4453,\n",
       "        0, 'DNS'], dtype=object),\n",
       " array([17, 56, 56, 56, 0, 72, 96, 121, 34, 4, 4, 4, 0, 16992, 16992,\n",
       "        16992, 0, 'DNS'], dtype=object),\n",
       " array([17, 56, 56, 56, 0, 72, 96, 121, 34, 3, 3, 3, 0, 4979, 4979, 4979,\n",
       "        0, 'DNS'], dtype=object),\n",
       " array([17, 56, 56, 56, 0, 72, 96, 121, 34, 4, 4, 4, 0, 102253, 102253,\n",
       "        102253, 0, 'DNS'], dtype=object),\n",
       " array([17, 56, 56, 56, 0, 72, 96, 121, 34, 3, 3, 3, 0, 4730, 4730, 4730,\n",
       "        0, 'DNS'], dtype=object),\n",
       " array([17, 56, 56, 56, 0, 72, 96, 121, 34, 2, 2, 2, 0, 4377, 4377, 4377,\n",
       "        0, 'DNS'], dtype=object),\n",
       " array([17, 56, 56, 56, 0, 72, 96, 121, 34, 4, 4, 4, 0, 4567, 4567, 4567,\n",
       "        0, 'DNS'], dtype=object),\n",
       " array([17, 56, 56, 56, 0, 72, 96, 121, 34, 4, 4, 4, 0, 4004, 4004, 4004,\n",
       "        0, 'DNS'], dtype=object),\n",
       " array([17, 56, 56, 56, 0, 72, 96, 121, 34, 2, 2, 2, 0, 4464, 4464, 4464,\n",
       "        0, 'DNS'], dtype=object),\n",
       " array([17, 56, 56, 56, 0, 72, 96, 121, 34, 3, 3, 3, 0, 5035, 5035, 5035,\n",
       "        0, 'DNS'], dtype=object),\n",
       " array([17, 56, 56, 56, 0, 72, 96, 121, 34, 4, 4, 4, 0, 17026, 17026,\n",
       "        17026, 0, 'DNS'], dtype=object),\n",
       " array([17, 56, 56, 56, 0, 72, 96, 121, 34, 2, 2, 2, 0, 19773, 19773,\n",
       "        19773, 0, 'DNS'], dtype=object),\n",
       " array([17, 56, 56, 56, 0, 72, 96, 121, 34, 3, 3, 3, 0, 4967, 4967, 4967,\n",
       "        0, 'DNS'], dtype=object),\n",
       " array([17, 56, 56, 56, 0, 72, 96, 121, 34, 3, 3, 3, 0, 93700, 93700,\n",
       "        93700, 0, 'DNS'], dtype=object),\n",
       " array([17, 56, 56, 56, 0, 72, 96, 121, 34, 4, 4, 4, 0, 101442, 101442,\n",
       "        101442, 0, 'DNS'], dtype=object),\n",
       " array([17, 56, 56, 56, 0, 72, 96, 121, 34, 2, 2, 2, 0, 2585, 2585, 2585,\n",
       "        0, 'DNS'], dtype=object),\n",
       " array([17, 56, 56, 56, 0, 72, 96, 121, 34, 30, 30, 30, 0, 158345, 158345,\n",
       "        158345, 0, 'DNS'], dtype=object),\n",
       " array([17, 56, 56, 56, 0, 72, 96, 121, 34, 2, 2, 2, 0, 4336, 4336, 4336,\n",
       "        0, 'DNS'], dtype=object),\n",
       " array([17, 56, 56, 56, 0, 72, 96, 121, 34, 5, 5, 5, 0, 4468, 4468, 4468,\n",
       "        0, 'DNS'], dtype=object),\n",
       " array([17, 56, 56, 56, 0, 72, 96, 121, 34, 2, 2, 2, 0, 16671, 16671,\n",
       "        16671, 0, 'DNS'], dtype=object),\n",
       " array([17, 56, 56, 56, 0, 72, 96, 121, 34, 4, 4, 4, 0, 4743, 4743, 4743,\n",
       "        0, 'DNS'], dtype=object),\n",
       " array([17, 56, 56, 56, 0, 72, 96, 121, 34, 3, 3, 3, 0, 4613, 4613, 4613,\n",
       "        0, 'DNS'], dtype=object),\n",
       " array([17, 56, 56, 56, 0, 72, 96, 121, 34, 3, 3, 3, 0, 4557, 4557, 4557,\n",
       "        0, 'DNS'], dtype=object),\n",
       " array([17, 56, 56, 56, 0, 72, 96, 121, 34, 3, 3, 3, 0, 1478, 1478, 1478,\n",
       "        0, 'DNS'], dtype=object),\n",
       " array([17, 56, 56, 56, 0, 72, 96, 121, 34, 3, 3, 3, 0, 4123, 4123, 4123,\n",
       "        0, 'DNS'], dtype=object),\n",
       " array([17, 56, 56, 56, 0, 72, 96, 121, 34, 4, 4, 4, 0, 101524, 101524,\n",
       "        101524, 0, 'DNS'], dtype=object),\n",
       " array([17, 56, 56, 56, 0, 72, 96, 121, 34, 5, 5, 5, 0, 100385, 100385,\n",
       "        100385, 0, 'DNS'], dtype=object),\n",
       " array([17, 56, 56, 56, 0, 72, 96, 121, 34, 4, 4, 4, 0, 101865, 101865,\n",
       "        101865, 0, 'DNS'], dtype=object),\n",
       " array([17, 56, 56, 56, 0, 72, 96, 121, 34, 8, 8, 8, 0, 114203, 114203,\n",
       "        114203, 0, 'DNS'], dtype=object),\n",
       " array([17, 56, 56, 56, 0, 72, 96, 121, 34, 8, 8, 8, 0, 4853, 4853, 4853,\n",
       "        0, 'DNS'], dtype=object),\n",
       " array([17, 56, 56, 56, 0, 72, 96, 121, 34, 3, 3, 3, 0, 4718, 4718, 4718,\n",
       "        0, 'DNS'], dtype=object),\n",
       " array([17, 56, 56, 56, 0, 72, 96, 121, 34, 10, 10, 10, 0, 4531, 4531,\n",
       "        4531, 0, 'DNS'], dtype=object),\n",
       " array([17, 56, 56, 56, 0, 72, 96, 121, 34, 4, 4, 4, 0, 4104, 4104, 4104,\n",
       "        0, 'DNS'], dtype=object),\n",
       " array([17, 56, 56, 56, 0, 72, 96, 121, 34, 2, 2, 2, 0, 3599, 3599, 3599,\n",
       "        0, 'DNS'], dtype=object),\n",
       " array([17, 56, 56, 56, 0, 72, 96, 121, 34, 5, 5, 5, 0, 16833, 16833,\n",
       "        16833, 0, 'DNS'], dtype=object),\n",
       " array([17, 56, 56, 56, 0, 72, 96, 121, 34, 4, 4, 4, 0, 199774, 199774,\n",
       "        199774, 0, 'DNS'], dtype=object),\n",
       " array([17, 56, 56, 56, 0, 72, 96, 121, 34, 4, 4, 4, 0, 4725, 4725, 4725,\n",
       "        0, 'DNS'], dtype=object),\n",
       " array([17, 56, 56, 56, 0, 72, 96, 121, 34, 3, 3, 3, 0, 4209, 4209, 4209,\n",
       "        0, 'DNS'], dtype=object),\n",
       " array([17, 56, 56, 56, 0, 72, 96, 121, 34, 4, 4, 4, 0, 100901, 100901,\n",
       "        100901, 0, 'DNS'], dtype=object),\n",
       " array([17, 56, 56, 56, 0, 72, 96, 121, 34, 5, 5, 5, 0, 102663, 102663,\n",
       "        102663, 0, 'DNS'], dtype=object),\n",
       " array([17, 56, 56, 56, 0, 72, 96, 121, 34, 3, 3, 3, 0, 16459, 16459,\n",
       "        16459, 0, 'DNS'], dtype=object),\n",
       " array([17, 56, 56, 56, 0, 72, 96, 121, 34, 9, 9, 9, 0, 4371, 4371, 4371,\n",
       "        0, 'DNS'], dtype=object),\n",
       " array([17, 56, 56, 56, 0, 72, 96, 121, 34, 3, 3, 3, 0, 4352, 4352, 4352,\n",
       "        0, 'DNS'], dtype=object),\n",
       " array([17, 56, 56, 56, 0, 72, 96, 121, 34, 3, 3, 3, 0, 4753, 4753, 4753,\n",
       "        0, 'DNS'], dtype=object),\n",
       " array([17, 56, 56, 56, 0, 72, 96, 121, 34, 3, 3, 3, 0, 103466, 103466,\n",
       "        103466, 0, 'DNS'], dtype=object),\n",
       " array([17, 56, 56, 56, 0, 72, 96, 121, 34, 3, 3, 3, 0, 4485, 4485, 4485,\n",
       "        0, 'DNS'], dtype=object),\n",
       " array([17, 56, 56, 56, 0, 72, 96, 121, 34, 3, 3, 3, 0, 16633, 16633,\n",
       "        16633, 0, 'DNS'], dtype=object),\n",
       " array([17, 56, 56, 56, 0, 72, 96, 121, 34, 3, 3, 3, 0, 5029, 5029, 5029,\n",
       "        0, 'DNS'], dtype=object),\n",
       " array([17, 56, 56, 56, 0, 72, 96, 121, 34, 3, 3, 3, 0, 5094, 5094, 5094,\n",
       "        0, 'DNS'], dtype=object),\n",
       " array([17, 56, 56, 56, 0, 72, 96, 121, 34, 3, 3, 3, 0, 16777, 16777,\n",
       "        16777, 0, 'DNS'], dtype=object),\n",
       " array([17, 56, 56, 56, 0, 72, 96, 121, 34, 5, 5, 5, 0, 275352, 275352,\n",
       "        275352, 0, 'DNS'], dtype=object),\n",
       " array([17, 56, 56, 56, 0, 72, 96, 121, 34, 3, 3, 3, 0, 103121, 103121,\n",
       "        103121, 0, 'DNS'], dtype=object),\n",
       " array([17, 56, 56, 56, 0, 72, 96, 121, 34, 4, 4, 4, 0, 5154, 5154, 5154,\n",
       "        0, 'DNS'], dtype=object),\n",
       " array([17, 56, 56, 56, 0, 72, 96, 121, 34, 4, 4, 4, 0, 4460, 4460, 4460,\n",
       "        0, 'DNS'], dtype=object),\n",
       " array([17, 56, 56, 56, 0, 72, 96, 121, 34, 4, 4, 4, 0, 4155, 4155, 4155,\n",
       "        0, 'DNS'], dtype=object),\n",
       " array([17, 56, 56, 56, 0, 72, 96, 121, 34, 4, 4, 4, 0, 5152, 5152, 5152,\n",
       "        0, 'DNS'], dtype=object),\n",
       " array([17, 56, 56, 56, 0, 72, 96, 121, 34, 8, 8, 8, 0, 4574, 4574, 4574,\n",
       "        0, 'DNS'], dtype=object),\n",
       " array([17, 56, 56, 56, 0, 72, 96, 121, 34, 4, 4, 4, 0, 4827, 4827, 4827,\n",
       "        0, 'DNS'], dtype=object),\n",
       " array([17, 56, 56, 56, 0, 72, 96, 121, 34, 4, 4, 4, 0, 245485, 245485,\n",
       "        245485, 0, 'DNS'], dtype=object),\n",
       " array([17, 56, 56, 56, 0, 72, 96, 121, 34, 20, 20, 20, 0, 3871, 3871,\n",
       "        3871, 0, 'DNS'], dtype=object),\n",
       " array([17, 56, 56, 56, 0, 72, 96, 121, 34, 4, 4, 4, 0, 4447, 4447, 4447,\n",
       "        0, 'DNS'], dtype=object),\n",
       " array([17, 56, 56, 56, 0, 72, 96, 121, 34, 2, 2, 2, 0, 200781, 200781,\n",
       "        200781, 0, 'DNS'], dtype=object),\n",
       " array([17, 56, 56, 56, 0, 72, 96, 121, 34, 3, 3, 3, 0, 16993, 16993,\n",
       "        16993, 0, 'DNS'], dtype=object),\n",
       " array([17, 56, 56, 56, 0, 72, 96, 121, 34, 3, 3, 3, 0, 4516, 4516, 4516,\n",
       "        0, 'DNS'], dtype=object),\n",
       " array([17, 56, 56, 56, 0, 72, 96, 121, 34, 6, 6, 6, 0, 4962, 4962, 4962,\n",
       "        0, 'DNS'], dtype=object),\n",
       " array([17, 56, 56, 56, 0, 72, 96, 121, 34, 4, 4, 4, 0, 99344, 99344,\n",
       "        99344, 0, 'DNS'], dtype=object),\n",
       " array([17, 56, 56, 56, 0, 72, 96, 121, 34, 2, 2, 2, 0, 16208, 16208,\n",
       "        16208, 0, 'DNS'], dtype=object),\n",
       " array([17, 56, 56, 56, 0, 72, 96, 121, 34, 3, 3, 3, 0, 201060, 201060,\n",
       "        201060, 0, 'DNS'], dtype=object),\n",
       " array([17, 56, 56, 56, 0, 72, 96, 121, 34, 6, 6, 6, 0, 16543, 16543,\n",
       "        16543, 0, 'DNS'], dtype=object),\n",
       " array([17, 56, 56, 56, 0, 72, 96, 121, 34, 4, 4, 4, 0, 4857, 4857, 4857,\n",
       "        0, 'DNS'], dtype=object),\n",
       " array([17, 56, 56, 56, 0, 72, 96, 121, 34, 4, 4, 4, 0, 70575, 70575,\n",
       "        70575, 0, 'DNS'], dtype=object),\n",
       " array([17, 56, 56, 56, 0, 72, 96, 121, 34, 3, 3, 3, 0, 100792, 100792,\n",
       "        100792, 0, 'DNS'], dtype=object),\n",
       " array([17, 56, 56, 56, 0, 72, 96, 121, 34, 6, 6, 6, 0, 4649, 4649, 4649,\n",
       "        0, 'DNS'], dtype=object),\n",
       " array([17, 56, 56, 56, 0, 72, 96, 121, 34, 4, 4, 4, 0, 4420, 4420, 4420,\n",
       "        0, 'DNS'], dtype=object),\n",
       " array([17, 56, 56, 56, 0, 72, 96, 121, 34, 3, 3, 3, 0, 114733, 114733,\n",
       "        114733, 0, 'DNS'], dtype=object),\n",
       " array([17, 56, 56, 56, 0, 72, 96, 121, 34, 3, 3, 3, 0, 16829, 16829,\n",
       "        16829, 0, 'DNS'], dtype=object),\n",
       " array([17, 56, 56, 56, 0, 72, 96, 121, 34, 3, 3, 3, 0, 4935, 4935, 4935,\n",
       "        0, 'DNS'], dtype=object),\n",
       " array([17, 56, 56, 56, 0, 72, 96, 121, 34, 3, 3, 3, 0, 4246, 4246, 4246,\n",
       "        0, 'DNS'], dtype=object),\n",
       " array([17, 56, 56, 56, 0, 72, 96, 121, 34, 3, 3, 3, 0, 16831, 16831,\n",
       "        16831, 0, 'DNS'], dtype=object),\n",
       " array([17, 56, 56, 56, 0, 72, 96, 121, 34, 3, 3, 3, 0, 4694, 4694, 4694,\n",
       "        0, 'DNS'], dtype=object),\n",
       " array([17, 56, 56, 56, 0, 72, 96, 121, 34, 4, 4, 4, 0, 4254, 4254, 4254,\n",
       "        0, 'DNS'], dtype=object),\n",
       " array([17, 56, 56, 56, 0, 72, 96, 121, 34, 3, 3, 3, 0, 3774, 3774, 3774,\n",
       "        0, 'DNS'], dtype=object),\n",
       " array([17, 56, 56, 56, 0, 72, 96, 121, 34, 3, 3, 3, 0, 101578, 101578,\n",
       "        101578, 0, 'DNS'], dtype=object),\n",
       " array([17, 56, 56, 56, 0, 72, 96, 121, 34, 4, 4, 4, 0, 4908, 4908, 4908,\n",
       "        0, 'DNS'], dtype=object),\n",
       " array([6, 52, 126, 489, 177, 52, 209, 833, 348, 3170, 28899, 57505, 27281,\n",
       "        29843, 30342, 30842, 706, 'HTTP'], dtype=object),\n",
       " array([6, 52, 66, 131, 31, 52, 117, 307, 126, 2, 13465, 28540, 12845,\n",
       "        9408, 15949, 19228, 5664, 'HTTP'], dtype=object),\n",
       " array([6, 52, 66, 131, 31, 52, 117, 307, 126, 3, 13164, 25416, 11684,\n",
       "        6781, 15405, 19751, 7468, 'HTTP'], dtype=object),\n",
       " array([6, 52, 66, 131, 31, 52, 117, 307, 126, 4, 13051, 25382, 11592,\n",
       "        6701, 15258, 20263, 7446, 'HTTP'], dtype=object),\n",
       " array([6, 52, 66, 131, 31, 52, 117, 307, 126, 3, 12942, 25576, 11579,\n",
       "        6712, 15123, 20261, 7343, 'HTTP'], dtype=object),\n",
       " array([6, 52, 66, 131, 31, 52, 117, 307, 126, 3, 13216, 27105, 11983,\n",
       "        7622, 15894, 20233, 7166, 'HTTP'], dtype=object),\n",
       " array([6, 52, 66, 131, 31, 52, 117, 307, 126, 4, 13488, 26548, 12046,\n",
       "        7216, 15762, 20303, 7405, 'HTTP'], dtype=object),\n",
       " array([6, 52, 66, 131, 31, 52, 117, 307, 126, 4, 34680, 133617, 56085,\n",
       "        18737, 51117, 115059, 55376, 'HTTP'], dtype=object),\n",
       " array([6, 52, 66, 131, 31, 52, 117, 307, 126, 3, 34207, 119490, 49259,\n",
       "        8774, 17351, 23879, 7758, 'HTTP'], dtype=object),\n",
       " array([6, 52, 66, 131, 31, 52, 117, 307, 126, 2, 12661, 24000, 11172,\n",
       "        5319, 14520, 19786, 7996, 'HTTP'], dtype=object),\n",
       " array([6, 52, 66, 131, 31, 52, 117, 307, 126, 2, 15045, 36020, 14893,\n",
       "        17176, 18580, 20062, 1444, 'HTTP'], dtype=object),\n",
       " array([6, 52, 66, 131, 31, 52, 117, 307, 126, 3, 13074, 24962, 11585,\n",
       "        5468, 15245, 20658, 8483, 'HTTP'], dtype=object),\n",
       " array([6, 52, 66, 131, 31, 52, 117, 307, 126, 3, 13045, 27168, 12361,\n",
       "        7528, 15192, 19450, 6651, 'HTTP'], dtype=object),\n",
       " array([6, 52, 66, 131, 31, 52, 117, 307, 126, 3, 13551, 26477, 12071,\n",
       "        7543, 15928, 20782, 7291, 'HTTP'], dtype=object),\n",
       " array([6, 52, 66, 131, 31, 52, 117, 307, 126, 99, 12809, 25007, 11359,\n",
       "        5975, 15234, 20383, 8035, 'HTTP'], dtype=object),\n",
       " array([6, 52, 66, 131, 31, 52, 117, 307, 126, 3, 42140, 170375, 72297,\n",
       "        19021, 63499, 151007, 75787, 'HTTP'], dtype=object),\n",
       " array([6, 52, 66, 131, 31, 52, 117, 307, 126, 88, 13564, 26774, 12006,\n",
       "        7401, 15815, 21079, 7363, 'HTTP'], dtype=object),\n",
       " array([6, 52, 66, 131, 31, 52, 117, 307, 126, 3, 14130, 30681, 13148,\n",
       "        11537, 17257, 21181, 5067, 'HTTP'], dtype=object),\n",
       " array([6, 52, 66, 131, 31, 52, 117, 307, 126, 1, 13346, 27587, 12600,\n",
       "        8177, 15774, 19910, 6588, 'HTTP'], dtype=object),\n",
       " array([6, 52, 66, 131, 31, 52, 117, 307, 126, 2, 13291, 25248, 11774,\n",
       "        6000, 15655, 22556, 8614, 'HTTP'], dtype=object),\n",
       " array([6, 52, 66, 131, 31, 52, 117, 307, 126, 3, 14463, 32031, 14069,\n",
       "        12786, 17500, 20817, 4193, 'HTTP'], dtype=object),\n",
       " array([6, 52, 66, 131, 31, 52, 117, 307, 126, 3, 13311, 25784, 11820,\n",
       "        6515, 15785, 21218, 8067, 'HTTP'], dtype=object),\n",
       " array([6, 52, 66, 131, 31, 52, 117, 307, 126, 3, 13119, 25938, 11645,\n",
       "        7092, 15458, 20423, 7287, 'HTTP'], dtype=object),\n",
       " array([6, 52, 66, 131, 31, 52, 117, 307, 126, 3, 13533, 27598, 12294,\n",
       "        8649, 15844, 19563, 6232, 'HTTP'], dtype=object),\n",
       " array([6, 52, 66, 131, 31, 52, 117, 307, 126, 3, 12953, 24721, 11416,\n",
       "        6420, 14863, 19716, 7339, 'HTTP'], dtype=object),\n",
       " array([6, 52, 66, 131, 31, 52, 117, 307, 126, 3, 14458, 27192, 13480,\n",
       "        6956, 17462, 26953, 10037, 'HTTP'], dtype=object),\n",
       " array([6, 52, 66, 131, 31, 52, 117, 307, 126, 3, 12940, 25004, 11507,\n",
       "        5875, 15160, 20511, 8072, 'HTTP'], dtype=object),\n",
       " array([6, 52, 66, 131, 31, 52, 117, 307, 126, 4, 13344, 26345, 11905,\n",
       "        7463, 15585, 20355, 7069, 'HTTP'], dtype=object),\n",
       " array([6, 52, 66, 131, 31, 52, 117, 307, 126, 2, 13126, 25343, 11627,\n",
       "        6736, 15313, 19929, 7435, 'HTTP'], dtype=object),\n",
       " array([6, 52, 66, 131, 31, 52, 117, 307, 126, 3, 13026, 26524, 12214,\n",
       "        6401, 15334, 19945, 7737, 'HTTP'], dtype=object),\n",
       " array([6, 52, 66, 131, 31, 52, 117, 307, 126, 4, 13212, 26742, 11837,\n",
       "        7174, 15904, 20501, 7564, 'HTTP'], dtype=object),\n",
       " array([6, 52, 66, 131, 31, 52, 117, 307, 126, 3, 12931, 25489, 11525,\n",
       "        6805, 15030, 20337, 7222, 'HTTP'], dtype=object),\n",
       " array([6, 52, 66, 131, 31, 52, 117, 307, 126, 2, 14355, 31064, 13363,\n",
       "        11599, 17323, 20763, 4990, 'HTTP'], dtype=object),\n",
       " array([6, 52, 66, 131, 31, 52, 117, 307, 126, 3, 13220, 25427, 11697,\n",
       "        6177, 15361, 20242, 7959, 'HTTP'], dtype=object),\n",
       " array([6, 52, 66, 131, 31, 52, 117, 307, 126, 3, 13078, 26642, 12275,\n",
       "        7252, 15112, 19395, 6816, 'HTTP'], dtype=object),\n",
       " array([6, 52, 66, 131, 31, 52, 117, 307, 126, 3, 14030, 26724, 12482,\n",
       "        7917, 16943, 23191, 8006, 'HTTP'], dtype=object),\n",
       " array([6, 52, 66, 131, 31, 52, 117, 307, 126, 4, 12929, 23974, 11341,\n",
       "        5273, 14860, 19700, 8303, 'HTTP'], dtype=object),\n",
       " array([6, 52, 66, 131, 31, 52, 117, 307, 126, 4, 12932, 24554, 11419,\n",
       "        5126, 14960, 20769, 8563, 'HTTP'], dtype=object),\n",
       " array([6, 52, 66, 131, 31, 52, 117, 307, 126, 72, 12942, 26813, 11748,\n",
       "        8502, 15417, 19555, 6027, 'HTTP'], dtype=object),\n",
       " array([6, 52, 66, 131, 31, 52, 117, 307, 126, 10, 12985, 26873, 12250,\n",
       "        7522, 15414, 19444, 6835, 'HTTP'], dtype=object),\n",
       " array([6, 52, 66, 131, 31, 52, 117, 307, 126, 3, 13895, 25922, 12286,\n",
       "        6756, 16570, 23426, 8720, 'HTTP'], dtype=object),\n",
       " array([6, 52, 66, 131, 31, 52, 117, 307, 126, 2, 13821, 28976, 12679,\n",
       "        9532, 16612, 20638, 6150, 'HTTP'], dtype=object),\n",
       " array([6, 52, 66, 131, 31, 52, 117, 307, 126, 3, 13075, 26032, 11725,\n",
       "        7011, 15267, 20235, 7199, 'HTTP'], dtype=object),\n",
       " array([6, 52, 66, 131, 31, 52, 117, 307, 126, 4, 13259, 25899, 11775,\n",
       "        6965, 15575, 20017, 7458, 'HTTP'], dtype=object),\n",
       " array([6, 52, 66, 131, 31, 52, 117, 307, 126, 3, 13208, 27069, 12439,\n",
       "        7787, 15448, 19644, 6645, 'HTTP'], dtype=object),\n",
       " array([6, 52, 66, 131, 31, 52, 117, 307, 126, 4, 14063, 31634, 13780,\n",
       "        11952, 16969, 19767, 4354, 'HTTP'], dtype=object),\n",
       " array([6, 52, 66, 131, 31, 52, 117, 307, 126, 3, 13263, 26199, 12365,\n",
       "        7285, 15670, 20687, 7308, 'HTTP'], dtype=object),\n",
       " array([6, 52, 66, 131, 31, 52, 117, 307, 126, 3, 13216, 24674, 12191,\n",
       "        6236, 15315, 20695, 7907, 'HTTP'], dtype=object),\n",
       " array([6, 52, 66, 131, 31, 52, 117, 307, 126, 5, 13814, 26799, 12362,\n",
       "        7428, 15431, 20226, 6976, 'HTTP'], dtype=object),\n",
       " array([6, 52, 66, 131, 31, 52, 117, 307, 126, 3, 13754, 28506, 12482,\n",
       "        9857, 16565, 20609, 5850, 'HTTP'], dtype=object),\n",
       " array([6, 52, 66, 131, 31, 52, 117, 307, 126, 2, 13000, 25675, 11623,\n",
       "        6751, 15267, 20053, 7393, 'HTTP'], dtype=object),\n",
       " array([6, 52, 66, 131, 31, 52, 117, 307, 126, 3, 13752, 27624, 12404,\n",
       "        8987, 16264, 20318, 6316, 'HTTP'], dtype=object),\n",
       " array([6, 52, 66, 131, 31, 52, 117, 307, 126, 1, 13585, 27135, 12226,\n",
       "        9014, 16167, 21012, 6323, 'HTTP'], dtype=object),\n",
       " array([6, 52, 66, 131, 31, 52, 117, 307, 126, 3, 12919, 24841, 11461,\n",
       "        5658, 14965, 20039, 8071, 'HTTP'], dtype=object),\n",
       " array([6, 52, 64, 131, 29, 52, 378, 1480, 621, 3, 114967, 648513, 261559,\n",
       "        3, 167482, 628475, 307483, 'HTTP'], dtype=object),\n",
       " array([6, 52, 64, 131, 29, 52, 378, 1492, 627, 3, 138140, 789690, 319320,\n",
       "        3, 202414, 770210, 378645, 'HTTP'], dtype=object),\n",
       " array([6, 52, 66, 131, 31, 52, 117, 307, 126, 4, 15661, 38898, 15937,\n",
       "        18462, 19979, 20920, 1326, 'HTTP'], dtype=object),\n",
       " array([6, 52, 66, 131, 31, 52, 117, 307, 126, 4, 13336, 24708, 11708,\n",
       "        5628, 15653, 22083, 8797, 'HTTP'], dtype=object),\n",
       " array([6, 52, 66, 131, 31, 52, 117, 307, 126, 66, 14004, 29476, 12857,\n",
       "        10730, 17249, 22286, 5919, 'HTTP'], dtype=object),\n",
       " array([6, 52, 66, 131, 31, 52, 117, 307, 126, 1, 13110, 25468, 11669,\n",
       "        6671, 15405, 20221, 7577, 'HTTP'], dtype=object),\n",
       " array([6, 52, 66, 131, 31, 52, 117, 307, 126, 3, 13355, 27473, 12122,\n",
       "        8971, 15809, 19585, 5932, 'HTTP'], dtype=object),\n",
       " array([6, 52, 66, 131, 31, 52, 117, 307, 126, 3, 13402, 27261, 12149,\n",
       "        7876, 15818, 20440, 6909, 'HTTP'], dtype=object),\n",
       " array([6, 52, 66, 131, 31, 52, 117, 307, 126, 4, 12805, 24685, 11365,\n",
       "        6289, 14963, 19971, 7541, 'HTTP'], dtype=object),\n",
       " array([6, 52, 66, 131, 31, 52, 117, 307, 126, 2, 13597, 27343, 12317,\n",
       "        8008, 15937, 20828, 6929, 'HTTP'], dtype=object),\n",
       " array([6, 52, 66, 131, 31, 52, 117, 307, 126, 95, 13110, 25486, 11589,\n",
       "        6984, 15167, 19759, 7104, 'HTTP'], dtype=object),\n",
       " array([6, 52, 66, 131, 31, 52, 117, 307, 126, 3, 49769, 209379, 89703,\n",
       "        19864, 76682, 190118, 98238, 'HTTP'], dtype=object),\n",
       " array([6, 52, 66, 131, 31, 52, 117, 307, 126, 4, 13262, 25892, 11781,\n",
       "        6631, 15490, 20420, 7688, 'HTTP'], dtype=object),\n",
       " array([6, 52, 66, 131, 31, 52, 117, 307, 126, 3, 13175, 24909, 11552,\n",
       "        5982, 15352, 20763, 8147, 'HTTP'], dtype=object),\n",
       " array([6, 52, 64, 131, 29, 52, 378, 1492, 627, 2, 119830, 679923, 274532,\n",
       "        3, 175061, 660464, 323737, 'HTTP'], dtype=object),\n",
       " array([6, 52, 64, 131, 29, 52, 378, 1492, 627, 4, 46281, 239544, 95086, 4,\n",
       "        64907, 220950, 104427, 'HTTP'], dtype=object),\n",
       " array([6, 52, 66, 131, 31, 52, 117, 307, 126, 4, 13425, 27359, 12154,\n",
       "        7994, 15801, 20250, 6783, 'HTTP'], dtype=object),\n",
       " array([6, 52, 66, 131, 31, 52, 117, 307, 126, 2, 13226, 25477, 12286,\n",
       "        6175, 15674, 22499, 8484, 'HTTP'], dtype=object),\n",
       " array([6, 52, 66, 131, 31, 52, 117, 307, 126, 3, 13520, 28978, 12948,\n",
       "        9190, 16147, 19743, 6026, 'HTTP'], dtype=object),\n",
       " array([6, 52, 66, 131, 31, 52, 117, 307, 126, 3, 12703, 23926, 11195,\n",
       "        5838, 14736, 19381, 7708, 'HTTP'], dtype=object),\n",
       " array([6, 52, 66, 131, 31, 52, 117, 307, 126, 3, 14401, 32253, 13650,\n",
       "        13620, 17493, 19675, 3363, 'HTTP'], dtype=object),\n",
       " array([6, 52, 66, 131, 31, 52, 117, 307, 126, 26, 13784, 29487, 12758,\n",
       "        10108, 16425, 20290, 5516, 'HTTP'], dtype=object),\n",
       " array([6, 52, 66, 131, 31, 52, 117, 307, 126, 3, 13704, 28554, 12520,\n",
       "        9544, 16355, 19974, 5902, 'HTTP'], dtype=object),\n",
       " array([6, 52, 66, 131, 31, 52, 117, 307, 126, 4, 15994, 40127, 16413,\n",
       "        19166, 20169, 20896, 897, 'HTTP'], dtype=object),\n",
       " array([6, 52, 66, 131, 31, 52, 117, 307, 126, 2, 13007, 25676, 12107,\n",
       "        6013, 15147, 20486, 7947, 'HTTP'], dtype=object),\n",
       " array([6, 52, 66, 131, 31, 52, 117, 307, 126, 4, 13291, 26957, 12008,\n",
       "        7737, 15523, 19978, 6766, 'HTTP'], dtype=object),\n",
       " array([6, 52, 66, 131, 31, 52, 117, 307, 126, 5, 13557, 29591, 13092,\n",
       "        10328, 16238, 19303, 5119, 'HTTP'], dtype=object),\n",
       " array([6, 52, 66, 131, 31, 52, 117, 307, 126, 89, 15311, 37342, 15352,\n",
       "        18945, 19125, 19408, 247, 'HTTP'], dtype=object),\n",
       " array([6, 52, 66, 131, 31, 52, 117, 307, 126, 2, 13099, 25646, 12188,\n",
       "        6376, 14986, 19923, 7483, 'HTTP'], dtype=object),\n",
       " array([6, 52, 66, 131, 31, 52, 117, 307, 126, 4, 16168, 32907, 14953,\n",
       "        13583, 20565, 28632, 7582, 'HTTP'], dtype=object),\n",
       " array([6, 52, 66, 131, 31, 52, 117, 307, 126, 3, 13926, 28125, 13055,\n",
       "        8718, 16640, 22009, 7003, 'HTTP'], dtype=object),\n",
       " array([6, 52, 66, 131, 31, 52, 117, 307, 126, 2, 12869, 24400, 11372,\n",
       "        5989, 14913, 19578, 7731, 'HTTP'], dtype=object),\n",
       " array([6, 52, 66, 131, 31, 52, 117, 307, 126, 3, 13881, 29718, 12429,\n",
       "        11090, 16803, 21031, 5134, 'HTTP'], dtype=object),\n",
       " array([6, 52, 66, 131, 31, 52, 117, 307, 126, 4, 14082, 26487, 12542,\n",
       "        7933, 16894, 23864, 8149, 'HTTP'], dtype=object),\n",
       " array([6, 52, 66, 131, 31, 52, 117, 307, 126, 3, 13933, 29680, 12869,\n",
       "        10448, 16768, 20336, 5488, 'HTTP'], dtype=object),\n",
       " array([6, 52, 66, 131, 31, 52, 117, 307, 126, 6, 13071, 25690, 11695,\n",
       "        6684, 15264, 20460, 7485, 'HTTP'], dtype=object),\n",
       " array([6, 52, 66, 131, 31, 52, 117, 307, 126, 3, 12571, 25677, 11834,\n",
       "        6974, 14808, 18827, 6785, 'HTTP'], dtype=object),\n",
       " array([6, 52, 66, 131, 31, 52, 117, 307, 126, 3, 13465, 27326, 12182,\n",
       "        8130, 15971, 20636, 6831, 'HTTP'], dtype=object),\n",
       " array([6, 52, 66, 131, 31, 52, 117, 307, 126, 3, 16610, 43928, 17809,\n",
       "        18919, 21326, 24295, 2731, 'HTTP'], dtype=object),\n",
       " array([6, 52, 66, 131, 31, 52, 117, 307, 126, 3, 13250, 26161, 12353,\n",
       "        6666, 15816, 21569, 8011, 'HTTP'], dtype=object),\n",
       " array([6, 52, 66, 131, 31, 52, 117, 307, 126, 2, 12610, 25570, 11842,\n",
       "        6317, 14522, 18777, 7107, 'HTTP'], dtype=object),\n",
       " array([6, 52, 64, 1340, 67, 52, 3286, 8080, 1751, 3, 1880, 423426, 22581,\n",
       "        3, 1907, 369861, 21490, 'HTTPS'], dtype=object),\n",
       " array([6, 52, 90, 260, 62, 52, 384, 1390, 558, 14, 13328, 42323, 14872,\n",
       "        30, 11813, 64451, 20694, 'HTTPS'], dtype=object),\n",
       " array([6, 52, 93, 261, 63, 52, 358, 1390, 520, 10, 12305, 39043, 14387,\n",
       "        25, 13532, 78482, 24311, 'HTTPS'], dtype=object),\n",
       " array([6, 52, 92, 248, 61, 52, 382, 1390, 559, 17, 11574, 29600, 12612,\n",
       "        58, 12768, 66374, 21710, 'HTTPS'], dtype=object),\n",
       " array([6, 52, 101, 783, 108, 52, 1109, 6742, 1111, 4, 19906, 702719,\n",
       "        86293, 1, 13274, 676274, 67523, 'HTTPS'], dtype=object),\n",
       " array([6, 52, 139, 569, 176, 52, 93, 201, 52, 121, 17634, 46944, 16749,\n",
       "        23, 19326, 56869, 21681, 'HTTPS'], dtype=object),\n",
       " array([6, 52, 56, 1385, 21, 52, 3463, 16108, 1712, 2, 369, 504628, 7288,\n",
       "        3, 314, 451645, 6177, 'HTTPS'], dtype=object),\n",
       " array([6, 52, 176, 569, 203, 52, 121, 399, 102, 9, 12597, 34820, 15036, 6,\n",
       "        15322, 66369, 21496, 'HTTPS'], dtype=object),\n",
       " array([6, 52, 192, 726, 212, 52, 138, 1390, 247, 6, 38113, 520560, 88483,\n",
       "        2, 31476, 493565, 73544, 'HTTPS'], dtype=object),\n",
       " array([6, 52, 124, 1390, 187, 52, 807, 4066, 941, 3, 2438, 26822, 6391, 1,\n",
       "        2573, 65963, 9172, 'HTTPS'], dtype=object),\n",
       " array([17, 42, 144, 479, 17, 46, 1455, 1473, 153, 1, 3249, 903067, 39397,\n",
       "        2, 2897, 842589, 36496, 'OpenVPN'], dtype=object),\n",
       " array([17, 42, 130, 479, 10, 47, 1454, 1473, 157, 1, 653, 603829, 11032,\n",
       "        2, 1300, 738674, 21858, 'OpenVPN'], dtype=object),\n",
       " array([17, 42, 146, 479, 15, 46, 1456, 1473, 146, 1, 3279, 597734, 38561,\n",
       "        1, 2787, 885003, 36657, 'OpenVPN'], dtype=object),\n",
       " array([17, 42, 130, 479, 10, 47, 1456, 1473, 150, 1, 1133, 654000, 19771,\n",
       "        2, 785, 973159, 17868, 'OpenVPN'], dtype=object),\n",
       " array([17, 42, 130, 479, 11, 46, 1457, 1473, 145, 1, 3692, 899989, 35265,\n",
       "        1, 2123, 617084, 25783, 'OpenVPN'], dtype=object),\n",
       " array([17, 42, 135, 479, 13, 47, 1456, 1473, 150, 1, 1573, 301106, 13811,\n",
       "        1, 1213, 743732, 16116, 'OpenVPN'], dtype=object),\n",
       " array([17, 42, 139, 479, 16, 46, 1456, 1473, 149, 1, 2152, 555979, 19508,\n",
       "        2, 1446, 783619, 18592, 'OpenVPN'], dtype=object),\n",
       " array([17, 42, 140, 479, 18, 46, 1456, 1473, 147, 1, 3359, 795429, 35126,\n",
       "        3, 1563, 531216, 19431, 'OpenVPN'], dtype=object),\n",
       " array([17, 42, 130, 479, 11, 46, 1456, 1473, 149, 1, 2331, 988782, 32429,\n",
       "        2, 687, 566034, 12441, 'OpenVPN'], dtype=object),\n",
       " array([17, 42, 131, 479, 14, 46, 1456, 1473, 149, 1, 5006, 711928, 34853,\n",
       "        2, 1869, 740843, 16449, 'OpenVPN'], dtype=object),\n",
       " array([17, 42, 139, 479, 17, 47, 1456, 1473, 147, 1, 1825, 992167, 31064,\n",
       "        2, 703, 570015, 11750, 'OpenVPN'], dtype=object),\n",
       " array([17, 42, 131, 479, 11, 47, 1456, 1473, 148, 1, 1707, 771575, 26689,\n",
       "        1, 709, 979829, 17969, 'OpenVPN'], dtype=object),\n",
       " array([17, 42, 137, 479, 16, 47, 1456, 1473, 150, 1, 1673, 823696, 26006,\n",
       "        2, 582, 528751, 11182, 'OpenVPN'], dtype=object),\n",
       " array([17, 42, 145, 479, 16, 47, 1455, 1473, 152, 1, 3971, 1282803, 44204,\n",
       "        1, 2365, 766699, 30700, 'OpenVPN'], dtype=object),\n",
       " array([17, 42, 135, 479, 15, 46, 1455, 1473, 151, 1, 2218, 926926, 32083,\n",
       "        1, 1145, 686483, 18218, 'OpenVPN'], dtype=object),\n",
       " array([17, 42, 137, 479, 19, 46, 1456, 1473, 148, 1, 76668, 951291,\n",
       "        146938, 1, 51564, 1040480, 130888, 'OpenVPN'], dtype=object),\n",
       " array([17, 42, 130, 479, 10, 46, 1456, 1473, 148, 1, 1530, 897181, 27596,\n",
       "        1, 618, 606520, 13469, 'OpenVPN'], dtype=object),\n",
       " array([17, 42, 134, 479, 14, 46, 1456, 1473, 148, 1, 1325, 958302, 20704,\n",
       "        2, 980, 670153, 14274, 'OpenVPN'], dtype=object),\n",
       " array([17, 42, 130, 479, 10, 47, 1456, 1473, 149, 1, 1579, 800472, 25912,\n",
       "        1, 676, 552366, 11837, 'OpenVPN'], dtype=object),\n",
       " array([17, 42, 137, 479, 16, 46, 1457, 1473, 145, 1, 3106, 759096, 34404,\n",
       "        1, 2350, 759214, 31421, 'OpenVPN'], dtype=object),\n",
       " array([17, 42, 146, 479, 16, 47, 1456, 1473, 146, 1, 1804, 708082, 20607,\n",
       "        2, 1394, 516753, 17036, 'OpenVPN'], dtype=object),\n",
       " array([17, 42, 130, 479, 11, 47, 1456, 1473, 150, 1, 1439, 995149, 27797,\n",
       "        2, 679, 952361, 17433, 'OpenVPN'], dtype=object),\n",
       " array([17, 42, 134, 479, 15, 46, 1456, 1473, 147, 1, 5227, 1426598, 51870,\n",
       "        1, 3107, 832715, 39423, 'OpenVPN'], dtype=object),\n",
       " array([17, 42, 130, 479, 11, 46, 1456, 1473, 148, 1, 2111, 978788, 34013,\n",
       "        1, 631, 587829, 11116, 'OpenVPN'], dtype=object),\n",
       " array([17, 42, 136, 479, 16, 46, 1455, 1473, 152, 1, 2524, 819090, 32280,\n",
       "        1, 658, 575008, 11050, 'OpenVPN'], dtype=object),\n",
       " array([17, 42, 137, 479, 16, 46, 1456, 1473, 148, 1, 1539, 545189, 20464,\n",
       "        2, 831, 616021, 13569, 'OpenVPN'], dtype=object),\n",
       " array([17, 42, 141, 479, 16, 46, 1456, 1473, 148, 1, 3238, 790611, 33019,\n",
       "        2, 2027, 677103, 27148, 'OpenVPN'], dtype=object),\n",
       " array([17, 42, 130, 479, 11, 46, 1456, 1473, 148, 1, 2104, 900789, 32147,\n",
       "        2, 604, 570256, 10705, 'OpenVPN'], dtype=object),\n",
       " array([17, 42, 134, 479, 15, 46, 1456, 1473, 148, 1, 1896, 988504, 31704,\n",
       "        2, 639, 523612, 10893, 'OpenVPN'], dtype=object),\n",
       " array([17, 42, 141, 479, 18, 46, 1457, 1473, 145, 1, 2607, 957497, 31074,\n",
       "        2, 1536, 901785, 21198, 'OpenVPN'], dtype=object),\n",
       " array([17, 42, 145, 479, 18, 46, 1456, 1473, 146, 1, 3275, 899207, 36823,\n",
       "        1, 1849, 875895, 21742, 'OpenVPN'], dtype=object),\n",
       " array([17, 42, 143, 479, 18, 47, 1462, 1473, 114, 1, 2593, 864982, 30308,\n",
       "        2, 1434, 503758, 18214, 'OpenVPN'], dtype=object),\n",
       " array([17, 42, 145, 479, 18, 46, 1461, 1473, 123, 1, 3677, 643790, 33364,\n",
       "        1, 2159, 501319, 22178, 'OpenVPN'], dtype=object),\n",
       " array([17, 42, 131, 479, 11, 46, 1456, 1473, 148, 1, 1940, 879748, 30953,\n",
       "        3, 758, 932691, 17766, 'OpenVPN'], dtype=object),\n",
       " array([17, 42, 129, 479, 14, 47, 1455, 1473, 151, 1, 6592, 995778, 57238,\n",
       "        2, 1753, 753508, 18279, 'OpenVPN'], dtype=object),\n",
       " array([17, 42, 130, 479, 12, 46, 1456, 1473, 149, 1, 4265, 978544, 40542,\n",
       "        2, 1484, 788364, 18829, 'OpenVPN'], dtype=object),\n",
       " array([17, 42, 145, 479, 18, 46, 1456, 1473, 148, 1, 3060, 924384, 35094,\n",
       "        2, 1411, 740470, 16775, 'OpenVPN'], dtype=object),\n",
       " array([17, 42, 145, 479, 18, 47, 1454, 1473, 157, 1, 2823, 920573, 33005,\n",
       "        2, 1748, 735860, 21578, 'OpenVPN'], dtype=object),\n",
       " array([17, 42, 133, 479, 14, 47, 1456, 1473, 147, 1, 11283, 1133256,\n",
       "        63936, 2, 5015, 990228, 34473, 'OpenVPN'], dtype=object),\n",
       " array([17, 42, 147, 479, 19, 46, 1456, 1473, 148, 1, 4038, 860275, 37876,\n",
       "        1, 2076, 836263, 22441, 'OpenVPN'], dtype=object),\n",
       " array([17, 42, 138, 479, 17, 47, 1456, 1473, 147, 1, 4106, 984532, 46557,\n",
       "        2, 1585, 992032, 22990, 'OpenVPN'], dtype=object),\n",
       " array([17, 42, 141, 479, 16, 47, 1458, 1473, 140, 1, 2559, 847211, 29132,\n",
       "        2, 1483, 531209, 18686, 'OpenVPN'], dtype=object),\n",
       " array([17, 42, 144, 479, 18, 47, 1456, 1473, 149, 1, 2689, 982460, 29319,\n",
       "        2, 1829, 845807, 21398, 'OpenVPN'], dtype=object),\n",
       " array([17, 42, 138, 479, 17, 47, 1459, 1473, 133, 1, 3096, 1045935, 37517,\n",
       "        2, 1407, 501649, 17845, 'OpenVPN'], dtype=object),\n",
       " array([17, 42, 130, 479, 11, 47, 1439, 1473, 209, 1, 2349, 940513, 36831,\n",
       "        1, 2102, 1181354, 32158, 'OpenVPN'], dtype=object),\n",
       " array([17, 42, 145, 479, 16, 47, 1455, 1473, 151, 1, 1801, 947050, 26323,\n",
       "        1, 1023, 691946, 16581, 'OpenVPN'], dtype=object),\n",
       " array([17, 42, 130, 479, 12, 47, 1456, 1473, 148, 1, 1568, 913004, 26725,\n",
       "        2, 672, 903664, 16773, 'OpenVPN'], dtype=object)]"
      ]
     },
     "execution_count": 68,
     "metadata": {},
     "output_type": "execute_result"
    }
   ],
   "source": [
    "# It looks like we learned more using 'Red' (0.37), than 'Green' (0.14).\n",
    "# Why? Look at the different splits that result, and see which one\n",
    "# looks more 'unmixed' to you.\n",
    "true_rows, false_rows = partition(interesting_features.values, Question(-1,'openvpn'))\n",
    "\n",
    "# Here, the true_rows contain only 'Grapes'.\n",
    "true_rows\n",
    "\n",
    "false_rows"
   ]
  },
  {
   "cell_type": "code",
   "execution_count": 69,
   "metadata": {},
   "outputs": [
    {
     "data": {
      "text/plain": [
       "['proto',\n",
       " 'min_fpktl',\n",
       " 'mean_fpktl',\n",
       " 'max_fpktl',\n",
       " 'std_fpktl',\n",
       " 'min_bpktl',\n",
       " 'mean_bpktl',\n",
       " 'max_bpktl',\n",
       " 'std_bpktl',\n",
       " 'min_fiat',\n",
       " 'mean_fiat',\n",
       " 'max_fiat',\n",
       " 'std_fiat',\n",
       " 'min_biat',\n",
       " 'mean_biat',\n",
       " 'max_biat',\n",
       " 'std_biat',\n",
       " 'target_variable']"
      ]
     },
     "execution_count": 69,
     "metadata": {},
     "output_type": "execute_result"
    }
   ],
   "source": [
    "# On the other hand, partitioning by Green doesn't help so much.\n",
    "true_rows, false_rows = partition(interesting_features, Question(0,'Green'))\n",
    "\n",
    "# We've isolated one apple in the true rows.\n",
    "true_rows\n",
    "\n",
    "false_rows"
   ]
  },
  {
   "cell_type": "code",
   "execution_count": 70,
   "metadata": {},
   "outputs": [],
   "source": [
    "def find_best_split(rows):\n",
    "    \"\"\"Find the best question to ask by iterating over every feature / value\n",
    "    and calculating the information gain.\"\"\"\n",
    "    best_gain = 0  # keep track of the best information gain\n",
    "    best_question = None  # keep train of the feature / value that produced it\n",
    "    current_uncertainty = gini(rows)\n",
    "    n_features = len(rows[0]) - 1  # number of columns\n",
    "\n",
    "    for col in range(n_features):  # for each feature\n",
    "\n",
    "        values = set([row[col] for row in rows])  # unique values in the column\n",
    "\n",
    "        for val in values:  # for each value\n",
    "\n",
    "            question = Question(col, val)\n",
    "\n",
    "            # try splitting the dataset\n",
    "            true_rows, false_rows = partition(rows, question)\n",
    "\n",
    "            # Skip this split if it doesn't divide the\n",
    "            # dataset.\n",
    "            if len(true_rows) == 0 or len(false_rows) == 0:\n",
    "                continue\n",
    "\n",
    "            # Calculate the information gain from this split\n",
    "            gain = info_gain(true_rows, false_rows, current_uncertainty)\n",
    "\n",
    "            # You actually can use '>' instead of '>=' here\n",
    "            # but I wanted the tree to look a certain way for our\n",
    "            # toy dataset.\n",
    "            if gain >= best_gain:\n",
    "                best_gain, best_question = gain, question\n",
    "\n",
    "    return best_gain, best_question"
   ]
  },
  {
   "cell_type": "code",
   "execution_count": 71,
   "metadata": {},
   "outputs": [
    {
     "data": {
      "text/plain": [
       "Is std_biat >= 247?"
      ]
     },
     "execution_count": 71,
     "metadata": {},
     "output_type": "execute_result"
    }
   ],
   "source": [
    "#######\n",
    "# Demo:\n",
    "# Find the best question to ask first for our toy dataset.\n",
    "best_gain, best_question = find_best_split(interesting_features.values)\n",
    "best_question\n",
    "# FYI: is color == Red is just as good. See the note in the code above\n",
    "# where I used '>='.\n",
    "#######\n"
   ]
  },
  {
   "cell_type": "code",
   "execution_count": 72,
   "metadata": {},
   "outputs": [],
   "source": [
    "class Leaf:\n",
    "    \"\"\"A Leaf node classifies data.\n",
    "\n",
    "    This holds a dictionary of class (e.g., \"Apple\") -> number of times\n",
    "    it appears in the rows from the training data that reach this leaf.\n",
    "    \"\"\"\n",
    "\n",
    "    def __init__(self, rows):\n",
    "        self.predictions = class_counts(rows)"
   ]
  },
  {
   "cell_type": "code",
   "execution_count": 73,
   "metadata": {},
   "outputs": [],
   "source": [
    "class Decision_Node:\n",
    "    \"\"\"A Decision Node asks a question.\n",
    "\n",
    "    This holds a reference to the question, and to the two child nodes.\n",
    "    \"\"\"\n",
    "\n",
    "    def __init__(self,\n",
    "                 question,\n",
    "                 true_branch,\n",
    "                 false_branch):\n",
    "        self.question = question\n",
    "        self.true_branch = true_branch\n",
    "        self.false_branch = false_branch"
   ]
  },
  {
   "cell_type": "code",
   "execution_count": 74,
   "metadata": {},
   "outputs": [],
   "source": [
    "def build_tree(rows):\n",
    "    \"\"\"Builds the tree.\n",
    "\n",
    "    Rules of recursion: 1) Believe that it works. 2) Start by checking\n",
    "    for the base case (no further information gain). 3) Prepare for\n",
    "    giant stack traces.\n",
    "    \"\"\"\n",
    "\n",
    "    # Try partitioing the dataset on each of the unique attribute,\n",
    "    # calculate the information gain,\n",
    "    # and return the question that produces the highest gain.\n",
    "    gain, question = find_best_split(rows)\n",
    "\n",
    "    # Base case: no further info gain\n",
    "    # Since we can ask no further questions,\n",
    "    # we'll return a leaf.\n",
    "    if gain == 0:\n",
    "        return Leaf(rows)\n",
    "\n",
    "    # If we reach here, we have found a useful feature / value\n",
    "    # to partition on.\n",
    "    true_rows, false_rows = partition(rows, question)\n",
    "\n",
    "    # Recursively build the true branch.\n",
    "    true_branch = build_tree(true_rows)\n",
    "\n",
    "    # Recursively build the false branch.\n",
    "    false_branch = build_tree(false_rows)\n",
    "\n",
    "    # Return a Question node.\n",
    "    # This records the best feature / value to ask at this point,\n",
    "    # as well as the branches to follow\n",
    "    # dependingo on the answer.\n",
    "    return Decision_Node(question, true_branch, false_branch)"
   ]
  },
  {
   "cell_type": "code",
   "execution_count": 75,
   "metadata": {},
   "outputs": [],
   "source": [
    "def print_tree(node, spacing=\"\"):\n",
    "    \"\"\"World's most elegant tree printing function.\"\"\"\n",
    "\n",
    "    # Base case: we've reached a leaf\n",
    "    if isinstance(node, Leaf):\n",
    "        print (spacing + \"Predict\", node.predictions)\n",
    "        return\n",
    "\n",
    "    # Print the question at this node\n",
    "    print (spacing + str(node.question))\n",
    "\n",
    "    # Call this function recursively on the true branch\n",
    "    print (spacing + '--> True:')\n",
    "    print_tree(node.true_branch, spacing + \"  \")\n",
    "\n",
    "    # Call this function recursively on the false branch\n",
    "    print (spacing + '--> False:')\n",
    "    print_tree(node.false_branch, spacing + \"  \")"
   ]
  },
  {
   "cell_type": "code",
   "execution_count": 76,
   "metadata": {},
   "outputs": [],
   "source": [
    "my_tree = build_tree(interesting_features.values)"
   ]
  },
  {
   "cell_type": "code",
   "execution_count": 83,
   "metadata": {},
   "outputs": [
    {
     "name": "stdout",
     "output_type": "stream",
     "text": [
      "Is std_biat >= 247?\n",
      "--> True:\n",
      "  Is min_bpktl >= 52?\n",
      "  --> True:\n",
      "    Is max_fpktl >= 248?\n",
      "    --> True:\n",
      "      Is std_biat >= 6177?\n",
      "      --> True:\n",
      "        Predict {'HTTPS': 10}\n",
      "      --> False:\n",
      "        Predict {'HTTP': 1}\n",
      "    --> False:\n",
      "      Predict {'HTTP': 94}\n",
      "  --> False:\n",
      "    Predict {'OpenVPN': 47}\n",
      "--> False:\n",
      "  Predict {'DNS': 173}\n"
     ]
    }
   ],
   "source": [
    "print_tree(my_tree)"
   ]
  },
  {
   "cell_type": "code",
   "execution_count": 84,
   "metadata": {},
   "outputs": [],
   "source": [
    "def classify(row, node):\n",
    "    \"\"\"See the 'rules of recursion' above.\"\"\"\n",
    "\n",
    "    # Base case: we've reached a leaf\n",
    "    if isinstance(node, Leaf):\n",
    "        return node.predictions\n",
    "\n",
    "    # Decide whether to follow the true-branch or the false-branch.\n",
    "    # Compare the feature / value stored in the node,\n",
    "    # to the example we're considering.\n",
    "    if node.question.match(row):\n",
    "        return classify(row, node.true_branch)\n",
    "    else:\n",
    "        return classify(row, node.false_branch)"
   ]
  },
  {
   "cell_type": "code",
   "execution_count": 87,
   "metadata": {},
   "outputs": [
    {
     "name": "stdout",
     "output_type": "stream",
     "text": [
      "proto                  6\n",
      "min_fpktl             52\n",
      "mean_fpktl            66\n",
      "max_fpktl            131\n",
      "std_fpktl             31\n",
      "min_bpktl             52\n",
      "mean_bpktl           117\n",
      "max_bpktl            307\n",
      "std_bpktl            126\n",
      "min_fiat               4\n",
      "mean_fiat          15994\n",
      "max_fiat           40127\n",
      "std_fiat           16413\n",
      "min_biat           19166\n",
      "mean_biat          20169\n",
      "max_biat           20896\n",
      "std_biat             897\n",
      "target_variable     HTTP\n",
      "Name: 250, dtype: object\n"
     ]
    },
    {
     "data": {
      "text/plain": [
       "{'DNS': 173}"
      ]
     },
     "execution_count": 87,
     "metadata": {},
     "output_type": "execute_result"
    }
   ],
   "source": [
    "#######\n",
    "# Demo:\n",
    "# The tree predicts the 1st row of our\n",
    "# training data is an apple with confidence 1.\n",
    "print(interesting_features.iloc[250,:])\n",
    "classify(interesting_features.iloc[250,:], my_tree)\n",
    "#######"
   ]
  },
  {
   "cell_type": "code",
   "execution_count": 92,
   "metadata": {},
   "outputs": [],
   "source": [
    "def print_leaf(counts):\n",
    "    \"\"\"A nicer way to print the predictions at a leaf.\"\"\"\n",
    "    total = sum(counts.values()) * 1.0\n",
    "    probs = {}\n",
    "    for lbl in counts.keys():\n",
    "        probs[lbl] = str(int(counts[lbl] / total * 100)) + \"%\"\n",
    "    return probs"
   ]
  },
  {
   "cell_type": "code",
   "execution_count": 93,
   "metadata": {},
   "outputs": [
    {
     "data": {
      "text/plain": [
       "{'DNS': '100%'}"
      ]
     },
     "execution_count": 93,
     "metadata": {},
     "output_type": "execute_result"
    }
   ],
   "source": [
    "#######\n",
    "# Demo:\n",
    "# Printing that a bit nicer\n",
    "print_leaf(classify(interesting_features.iloc[0,:], my_tree))\n",
    "#######"
   ]
  },
  {
   "cell_type": "code",
   "execution_count": 96,
   "metadata": {},
   "outputs": [
    {
     "data": {
      "text/plain": [
       "{'DNS': '100%'}"
      ]
     },
     "execution_count": 96,
     "metadata": {},
     "output_type": "execute_result"
    }
   ],
   "source": [
    "#######\n",
    "# Demo:\n",
    "# On the second example, the confidence is lower\n",
    "print_leaf(classify(interesting_features.iloc[0,:], my_tree))\n",
    "#######"
   ]
  },
  {
   "cell_type": "code",
   "execution_count": null,
   "metadata": {},
   "outputs": [],
   "source": []
  }
 ],
 "metadata": {
  "kernelspec": {
   "display_name": "Python 3",
   "language": "python",
   "name": "python3"
  },
  "language_info": {
   "codemirror_mode": {
    "name": "ipython",
    "version": 3
   },
   "file_extension": ".py",
   "mimetype": "text/x-python",
   "name": "python",
   "nbconvert_exporter": "python",
   "pygments_lexer": "ipython3",
   "version": "3.6.4"
  }
 },
 "nbformat": 4,
 "nbformat_minor": 2
}
